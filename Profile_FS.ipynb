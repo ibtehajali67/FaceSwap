{
 "cells": [
  {
   "cell_type": "code",
   "execution_count": 1,
   "id": "yellow-admission",
   "metadata": {},
   "outputs": [
    {
     "name": "stdout",
     "output_type": "stream",
     "text": [
      "/home/mitho/Documents/FaceSwap/fewshot-face-translation-GAN\n"
     ]
    }
   ],
   "source": [
    "%cd \"fewshot-face-translation-GAN\""
   ]
  },
  {
   "cell_type": "code",
   "execution_count": 2,
   "id": "altered-english",
   "metadata": {},
   "outputs": [],
   "source": [
    "import warnings\n",
    "warnings.filterwarnings(\"ignore\")"
   ]
  },
  {
   "cell_type": "code",
   "execution_count": 3,
   "id": "breeding-shame",
   "metadata": {},
   "outputs": [
    {
     "name": "stderr",
     "output_type": "stream",
     "text": [
      "Using TensorFlow backend.\n"
     ]
    }
   ],
   "source": [
    "from models import FaceTranslationGANInferenceModel"
   ]
  },
  {
   "cell_type": "code",
   "execution_count": 4,
   "id": "nominated-importance",
   "metadata": {},
   "outputs": [
    {
     "name": "stdout",
     "output_type": "stream",
     "text": [
      "WARNING:tensorflow:From /home/mitho/Documents/FaceSwap/env/lib/python3.6/site-packages/keras/backend/tensorflow_backend.py:74: The name tf.get_default_graph is deprecated. Please use tf.compat.v1.get_default_graph instead.\n",
      "\n",
      "WARNING:tensorflow:From /home/mitho/Documents/FaceSwap/env/lib/python3.6/site-packages/keras/backend/tensorflow_backend.py:517: The name tf.placeholder is deprecated. Please use tf.compat.v1.placeholder instead.\n",
      "\n",
      "WARNING:tensorflow:From /home/mitho/Documents/FaceSwap/env/lib/python3.6/site-packages/keras/backend/tensorflow_backend.py:4185: The name tf.truncated_normal is deprecated. Please use tf.random.truncated_normal instead.\n",
      "\n",
      "WARNING:tensorflow:From /home/mitho/Documents/FaceSwap/fewshot-face-translation-GAN/networks/nn_blocks.py:141: The name tf.image.resize_images is deprecated. Please use tf.image.resize instead.\n",
      "\n",
      "WARNING:tensorflow:From /home/mitho/Documents/FaceSwap/env/lib/python3.6/site-packages/keras/backend/tensorflow_backend.py:4138: The name tf.random_uniform is deprecated. Please use tf.random.uniform instead.\n",
      "\n",
      "WARNING:tensorflow:From /home/mitho/Documents/FaceSwap/env/lib/python3.6/site-packages/keras/backend/tensorflow_backend.py:2018: The name tf.image.resize_nearest_neighbor is deprecated. Please use tf.compat.v1.image.resize_nearest_neighbor instead.\n",
      "\n",
      "WARNING:tensorflow:From /home/mitho/Documents/FaceSwap/env/lib/python3.6/site-packages/keras/backend/tensorflow_backend.py:174: The name tf.get_default_session is deprecated. Please use tf.compat.v1.get_default_session instead.\n",
      "\n",
      "WARNING:tensorflow:From /home/mitho/Documents/FaceSwap/env/lib/python3.6/site-packages/keras/backend/tensorflow_backend.py:181: The name tf.ConfigProto is deprecated. Please use tf.compat.v1.ConfigProto instead.\n",
      "\n",
      "WARNING:tensorflow:From /home/mitho/Documents/FaceSwap/env/lib/python3.6/site-packages/keras/backend/tensorflow_backend.py:186: The name tf.Session is deprecated. Please use tf.compat.v1.Session instead.\n",
      "\n",
      "WARNING:tensorflow:From /home/mitho/Documents/FaceSwap/env/lib/python3.6/site-packages/keras/backend/tensorflow_backend.py:190: The name tf.global_variables is deprecated. Please use tf.compat.v1.global_variables instead.\n",
      "\n",
      "WARNING:tensorflow:From /home/mitho/Documents/FaceSwap/env/lib/python3.6/site-packages/keras/backend/tensorflow_backend.py:199: The name tf.is_variable_initialized is deprecated. Please use tf.compat.v1.is_variable_initialized instead.\n",
      "\n",
      "WARNING:tensorflow:From /home/mitho/Documents/FaceSwap/env/lib/python3.6/site-packages/keras/backend/tensorflow_backend.py:206: The name tf.variables_initializer is deprecated. Please use tf.compat.v1.variables_initializer instead.\n",
      "\n",
      "Found checkpoints in weights folder. Built model with pre-trained weights.\n"
     ]
    }
   ],
   "source": [
    "model = FaceTranslationGANInferenceModel()"
   ]
  },
  {
   "cell_type": "code",
   "execution_count": 5,
   "id": "recent-hometown",
   "metadata": {},
   "outputs": [
    {
     "name": "stdout",
     "output_type": "stream",
     "text": [
      "WARNING:tensorflow:From /home/mitho/Documents/FaceSwap/env/lib/python3.6/site-packages/keras/backend/tensorflow_backend.py:1834: The name tf.nn.fused_batch_norm is deprecated. Please use tf.compat.v1.nn.fused_batch_norm instead.\n",
      "\n",
      "WARNING:tensorflow:From /home/mitho/Documents/FaceSwap/env/lib/python3.6/site-packages/keras/backend/tensorflow_backend.py:133: The name tf.placeholder_with_default is deprecated. Please use tf.compat.v1.placeholder_with_default instead.\n",
      "\n",
      "WARNING:tensorflow:From /home/mitho/Documents/FaceSwap/env/lib/python3.6/site-packages/keras/backend/tensorflow_backend.py:3976: The name tf.nn.max_pool is deprecated. Please use tf.nn.max_pool2d instead.\n",
      "\n",
      "WARNING:tensorflow:From /home/mitho/Documents/FaceSwap/env/lib/python3.6/site-packages/keras/backend/tensorflow_backend.py:3445: calling dropout (from tensorflow.python.ops.nn_ops) with keep_prob is deprecated and will be removed in a future version.\n",
      "Instructions for updating:\n",
      "Please use `rate` instead of `keep_prob`. Rate should be set to `rate = 1 - keep_prob`.\n",
      "WARNING:tensorflow:From /home/mitho/Documents/FaceSwap/fewshot-face-translation-GAN/face_toolbox_keras/models/verifier/face_verifier.py:52: The name tf.image.resize_bilinear is deprecated. Please use tf.compat.v1.image.resize_bilinear instead.\n",
      "\n",
      "WARNING:tensorflow:From /home/mitho/Documents/FaceSwap/env/lib/python3.6/site-packages/tensorflow_core/python/ops/image_ops_impl.py:1518: div (from tensorflow.python.ops.math_ops) is deprecated and will be removed in a future version.\n",
      "Instructions for updating:\n",
      "Deprecated in favor of operator or tf.math.divide.\n"
     ]
    }
   ],
   "source": [
    "from face_toolbox_keras.models.verifier.face_verifier import FaceVerifier\n",
    "fv = FaceVerifier(classes=512)\n",
    "\n",
    "from face_toolbox_keras.models.parser import face_parser\n",
    "fp = face_parser.FaceParser()\n",
    "\n",
    "from face_toolbox_keras.models.detector import face_detector\n",
    "fd = face_detector.FaceAlignmentDetector()\n",
    "\n",
    "from face_toolbox_keras.models.detector.iris_detector import IrisDetector\n",
    "idet = IrisDetector()\n",
    "#idet.set_detector(fd)\n",
    "from utils.faceswap import FaceSwap\n",
    "fs=FaceSwap()"
   ]
  },
  {
   "cell_type": "code",
   "execution_count": 6,
   "id": "precious-editing",
   "metadata": {},
   "outputs": [],
   "source": [
    "import numpy as np\n",
    "from utils import utils\n",
    "from matplotlib import pyplot as plt"
   ]
  },
  {
   "cell_type": "code",
   "execution_count": 7,
   "id": "interim-cleaners",
   "metadata": {},
   "outputs": [],
   "source": [
    "def increase_brightness(img, value=30):\n",
    "    hsv = cv2.cvtColor(img, cv2.COLOR_BGR2HSV)\n",
    "    h, s, v = cv2.split(hsv)\n",
    "\n",
    "    lim = 255 - value\n",
    "    v[v > lim] = 255\n",
    "    v[v <= lim] += value\n",
    "\n",
    "    final_hsv = cv2.merge((h, s, v))\n",
    "    img = cv2.cvtColor(final_hsv, cv2.COLOR_HSV2BGR)\n",
    "    return img"
   ]
  },
  {
   "cell_type": "code",
   "execution_count": null,
   "id": "infinite-domain",
   "metadata": {},
   "outputs": [],
   "source": [
    "def correct_colours(im1, im2):\n",
    "    COLOUR_CORRECT_BLUR_FRAC=0.6\n",
    "    blur_amount = COLOUR_CORRECT_BLUR_FRAC * np.linalg.norm(\n",
    "                              np.mean(im1, axis=0) -\n",
    "                              np.mean(im2, axis=0))\n",
    "    blur_amount = int(blur_amount)\n",
    "    if blur_amount % 2 == 0:\n",
    "        blur_amount += 1\n",
    "    im1_blur = cv2.GaussianBlur(im1, (blur_amount, blur_amount), 0)\n",
    "    im2_blur = cv2.GaussianBlur(im2, (blur_amount, blur_amount), 0)\n",
    "\n",
    "    # Avoid divide-by-zero errors.\n",
    "    im2_blur += (128 * (im2_blur <= 1.0)).astype(im2_blur.dtype)\n",
    "\n",
    "    result= (im2.astype(np.float64) * im1_blur.astype(np.float64) /\n",
    "                                                im2_blur.astype(np.float64))\n",
    "    result = np.clip(result, 0, 255).astype(np.uint8)\n",
    "    return result"
   ]
  },
  {
   "cell_type": "code",
   "execution_count": null,
   "id": "linear-information",
   "metadata": {},
   "outputs": [],
   "source": [
    "import os\n",
    "import os.path\n",
    "import shutil\n",
    "from PIL import Image\n",
    "import cv2\n",
    "\n",
    "\n",
    "target_path = 'Profile/src/img.jpg'\n",
    "tar, emb_tar = utils.get_tar_inputs([target_path], fd, fv)\n",
    "src_dir = \"Profile/japanese/\"\n",
    "result_dir = \"Profile/results_1/\"\n",
    "os.makedirs(result_dir, exist_ok=True)\n",
    "\n",
    "for target_name in os.listdir(src_dir):\n",
    "  src_path = os.path.join(src_dir, target_name)\n",
    "  result_path = os.path.join(result_dir, target_name)\n",
    "  print(src_path)\n",
    "  try:\n",
    "    src, mask, aligned_im, (x0, y0, x1, y1), landmarks,M = utils.get_src_inputs(src_path, fd, fp, idet)\n",
    "  except IndexError as e:\n",
    "    print(\"get_src_inputs IndexError:\", e)\n",
    "    shutil.copyfile(src_path, result_path)\n",
    "    continue\n",
    "  except AssertionError as e:\n",
    "    print(\"get_src_inputs AssertionError:\", e)\n",
    "    shutil.copyfile(src_path, result_path)\n",
    "    continue\n",
    "\n",
    "  tar=cv2.resize(tar, (src.shape[1], src.shape[0]))\n",
    "  tar=correct_colours(src,tar)\n",
    "  out = model.inference(src, mask, tar, emb_tar)\n",
    "  result_face = np.squeeze(((out[0] + 1) * 255 / 2).astype(np.uint8))\n",
    "  result_face=cv2.resize(result_face, (src.shape[1], src.shape[0]))\n",
    "  rst=result_face\n",
    "  trs=fs.transform(src,result_face)\n",
    "\n",
    "  if type(trs)!=int:    \n",
    "       result_face=trs\n",
    "       cv2.imwrite(\"dummy.jpg\",result_face)\n",
    "       result_face=cv2.imread(\"dummy.jpg\")\n",
    "       result_face=increase_brightness(result_face,value=10)\n",
    "       mouth=cv2.imread(\"mouth.png\")\n",
    "       a,b = np.where(np.all(mouth!=[0,0,0],axis=2))\n",
    "       \n",
    "       src=correct_colours(trs,src)\n",
    "       src=increase_brightness(src,value=10)\n",
    "       result_face[a,b]=src[a,b]\n",
    "       a,b = np.where(np.all(mask==[255, 75, 125],axis=2))\n",
    "       result_face[a,b]=rst[a,b]\n",
    "       blur = cv2.GaussianBlur(result_face,(1,1),0)\n",
    "#        blur=increase_brightness(blur,value=20)\n",
    "       a,b = np.where(np.all(mask==[0,0,255],axis=2))\n",
    "       result_face[a,b]=blur[a,b]\n",
    "    \n",
    "    \n",
    "  result_img = utils.post_process_result(src_path, fd, result_face, aligned_im, src, x0, y0, x1, y1, landmarks,M)\n",
    "  result_img=increase_brightness(result_img,value=20)\n",
    "  kernel = np.array([[-0.8, -0.5,.8],\n",
    "             [0.5, 3, -0.5],\n",
    "            [-.5, -0.5, -0.5]])\n",
    "  dst = cv2.filter2D(result_img,-1,kernel)  \n",
    "  Image.fromarray(dst).save(result_path)\n",
    "    "
   ]
  },
  {
   "cell_type": "code",
   "execution_count": null,
   "id": "generic-contemporary",
   "metadata": {},
   "outputs": [],
   "source": []
  },
  {
   "cell_type": "code",
   "execution_count": null,
   "id": "herbal-stocks",
   "metadata": {},
   "outputs": [],
   "source": []
  },
  {
   "cell_type": "code",
   "execution_count": null,
   "id": "moral-exchange",
   "metadata": {},
   "outputs": [],
   "source": []
  },
  {
   "cell_type": "code",
   "execution_count": null,
   "id": "digital-cooling",
   "metadata": {},
   "outputs": [],
   "source": []
  },
  {
   "cell_type": "code",
   "execution_count": null,
   "id": "coordinate-browse",
   "metadata": {},
   "outputs": [],
   "source": []
  },
  {
   "cell_type": "code",
   "execution_count": null,
   "id": "hourly-segment",
   "metadata": {},
   "outputs": [],
   "source": []
  },
  {
   "cell_type": "code",
   "execution_count": null,
   "id": "ordered-biography",
   "metadata": {},
   "outputs": [],
   "source": []
  },
  {
   "cell_type": "code",
   "execution_count": null,
   "id": "historical-gazette",
   "metadata": {},
   "outputs": [],
   "source": []
  }
 ],
 "metadata": {
  "kernelspec": {
   "display_name": "Python 3",
   "language": "python",
   "name": "python3"
  },
  "language_info": {
   "codemirror_mode": {
    "name": "ipython",
    "version": 3
   },
   "file_extension": ".py",
   "mimetype": "text/x-python",
   "name": "python",
   "nbconvert_exporter": "python",
   "pygments_lexer": "ipython3",
   "version": "3.6.9"
  }
 },
 "nbformat": 4,
 "nbformat_minor": 5
}
